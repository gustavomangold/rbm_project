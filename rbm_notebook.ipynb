{
 "cells": [
  {
   "cell_type": "markdown",
   "id": "1d0d10ff",
   "metadata": {},
   "source": [
    "# Restricted Boltzmann Machine do zero\n",
    "\n",
    "Esse notebook foi criado com o objetivo de explicitar o processo de criação de uma RBM do zero. Depois de pronta, é de se considerar a tentativa de criar uma Deep RBM ou outros modelos parecidos"
   ]
  },
  {
   "cell_type": "code",
   "execution_count": 1,
   "id": "78617c6b",
   "metadata": {},
   "outputs": [],
   "source": [
    "import numpy as np\n",
    "\n",
    "#falta normalização\n",
    "def E(v, h, b, c, W):\n",
    "    return np.exp(np.dot(b, v)+np.dot(c, h)+np.dot(v, np.matmul(W, h)))"
   ]
  },
  {
   "cell_type": "markdown",
   "id": "e4c6b9a4",
   "metadata": {},
   "source": [
    "Definimos, acima, a função energia do sistema, que depende da camada de nós visível $v$, da camada  "
   ]
  },
  {
   "cell_type": "code",
   "execution_count": 2,
   "id": "c39c9549",
   "metadata": {},
   "outputs": [],
   "source": [
    "def log_likelihood(dataset):\n",
    "    norm = np.linalg.norm(dataset)\n",
    "    sum = 0\n",
    "    for v in dataset:\n",
    "        sum += np.log(E(v, hidden_units, b, c, W))\n",
    "    return sum/norm"
   ]
  },
  {
   "cell_type": "code",
   "execution_count": 3,
   "id": "3c58d8b1",
   "metadata": {},
   "outputs": [],
   "source": [
    "# number of visible and hidden units\n",
    "hu_size = 3\n",
    "vu_size = 3\n",
    "\n",
    "sample_space = np.array([[np.random.random() for x in range(0, vu_size)] for x in range(0, 20)])\n",
    "\n",
    "hidden_units = np.array([1 for x in range(0, hu_size)])\n",
    "b, c = np.array([np.random.random() for x in range(0, vu_size)]), np.array([np.random.random() for x in range(0, hu_size)])\n",
    "\n",
    "#size of the matrix must be \n",
    "W = np.array([[np.random.random() for x in range(0, hu_size)] for x in range(0, vu_size)])"
   ]
  },
  {
   "cell_type": "code",
   "execution_count": null,
   "id": "5a991109",
   "metadata": {},
   "outputs": [],
   "source": []
  }
 ],
 "metadata": {
  "kernelspec": {
   "display_name": "Python 3 (ipykernel)",
   "language": "python",
   "name": "python3"
  },
  "language_info": {
   "codemirror_mode": {
    "name": "ipython",
    "version": 3
   },
   "file_extension": ".py",
   "mimetype": "text/x-python",
   "name": "python",
   "nbconvert_exporter": "python",
   "pygments_lexer": "ipython3",
   "version": "3.10.12"
  }
 },
 "nbformat": 4,
 "nbformat_minor": 5
}
